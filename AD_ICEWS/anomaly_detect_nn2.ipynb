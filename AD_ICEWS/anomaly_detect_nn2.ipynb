{
 "cells": [
  {
   "cell_type": "code",
   "execution_count": 1,
   "metadata": {},
   "outputs": [],
   "source": [
    "import matplotlib.pyplot as plt\n",
    "import seaborn as sns\n",
    "\n",
    "import pandas as pd\n",
    "import numpy as np\n",
    "\n",
    "import os\n",
    "import joblib\n",
    "from collections import OrderedDict\n",
    "\n",
    "import torch\n",
    "\n",
    "from sklearn import preprocessing as pre\n",
    "from sklearn.neighbors import KernelDensity\n",
    "\n",
    "import datetime\n",
    "\n",
    "from tqdm.notebook import tqdm\n",
    "from util.data import get_country_df\n",
    "from models import enc_dec\n",
    "\n",
    "sns.set()\n",
    "plt.rcParams['figure.figsize'] = (10, 5)\n",
    "NUM_WORKERS = os.cpu_count()\n",
    "\n",
    "np.random.seed(1234)"
   ]
  },
  {
   "cell_type": "markdown",
   "metadata": {},
   "source": [
    "## Analyze Distribution of Auto-encoder loss\n",
    "In the previous notebook, we defined and trained a neural network to encode and decode event data from stable countries. In this notebook we will analyze the loss distribution of the model in order to choose an anomaly threshold.\n",
    "\n",
    "### Aggregate Stable Country Data\n",
    "First, we will retrieve and concatenate a selection of traditionally stable countries. These countries don't have a perfect history of peace, but most activity should be low level civil unrest such as peaceful protests. We will this data as a baseline for determining anomalous activity."
   ]
  },
  {
   "cell_type": "code",
   "execution_count": 2,
   "metadata": {},
   "outputs": [
    {
     "name": "stdout",
     "output_type": "stream",
     "text": [
      "loading data/icews/icews_united_states_raw.parquet... done.\n",
      "loading data/icews/icews_united_kingdom_raw.parquet... done.\n",
      "loading data/icews/icews_spain_raw.parquet... done.\n",
      "loading data/icews/icews_france_raw.parquet... done.\n"
     ]
    },
    {
     "data": {
      "text/plain": [
       "United States     250772\n",
       "United Kingdom    126277\n",
       "France             90539\n",
       "Spain              23640\n",
       "Name: Country, dtype: int64"
      ]
     },
     "execution_count": 2,
     "metadata": {},
     "output_type": "execute_result"
    }
   ],
   "source": [
    "stable_countries = ['United States', 'United Kingdom', 'Spain', 'France']\n",
    "\n",
    "stable_df = pd.DataFrame()\n",
    "for c in stable_countries:\n",
    "    temp_df = get_country_df(c, 'data/icews/')\n",
    "    stable_df = pd.concat([stable_df, temp_df])\n",
    "    \n",
    "stable_df.Country.value_counts()"
   ]
  },
  {
   "cell_type": "code",
   "execution_count": 3,
   "metadata": {},
   "outputs": [],
   "source": [
    "drop = ['Source Country', 'Target Country',\n",
    "        'Country', 'Latitude', 'Longitude',\n",
    "        'Event ID', 'Source Name', \n",
    "        'Source Sectors','Target Name', \n",
    "        'Target Sectors', 'Event Date',\n",
    "        'Story ID','Sentence Number', \n",
    "        'Publisher', 'District',\n",
    "        'Province', 'City']\n",
    "\n",
    "stable_df = stable_df.drop(drop, axis=1)"
   ]
  },
  {
   "cell_type": "markdown",
   "metadata": {},
   "source": [
    "Next, we want to one-hot encode 'Event Text', which tells what kind of event occured. Because there may be events in the larger dataset that do not occur in this \"Stabel countries\" dataset, we will pull the categorical features from the total data before encoding:"
   ]
  },
  {
   "cell_type": "code",
   "execution_count": 4,
   "metadata": {},
   "outputs": [],
   "source": [
    "# Get comprehensive list of all 'Event Text' categories.\n",
    "all_data = pd.read_parquet('data/icews/icews_all_raw.parquet')['Event Text'].astype('string')"
   ]
  },
  {
   "cell_type": "code",
   "execution_count": 5,
   "metadata": {},
   "outputs": [],
   "source": [
    "# Use comprehensive list to fit one-hot-encoder for tranformation\n",
    "ohe = pre.OneHotEncoder(sparse=False)\n",
    "ohe.fit(all_data.to_numpy().reshape(-1, 1))\n",
    "joblib.dump(ohe, 'data/models/ohe.joblib')\n",
    "\n",
    "# Get one-hot encoded Event Text category\n",
    "oh_data = ohe.transform(stable_df['Event Text'].to_numpy().reshape(-1, 1))"
   ]
  },
  {
   "cell_type": "code",
   "execution_count": 6,
   "metadata": {},
   "outputs": [],
   "source": [
    "# Concatenate original data with one-hot data and drop 'Event Text'\n",
    "oh_data = pd.DataFrame(data=oh_data, columns=ohe.categories_[0], index=stable_df.index)\n",
    "stable_df = pd.concat([stable_df, oh_data], axis=1)\n",
    "stable_df.drop(['Event Text'], axis=1, inplace=True)"
   ]
  },
  {
   "cell_type": "markdown",
   "metadata": {},
   "source": [
    "### Defining Network Architecture\n",
    "Now that the we have aggregated several stable countries' data, we will load a trained auto-encoder architecture that knows how to compress event data and reconstruct it from a compressed form. It's loss should increase when presented with unstable event data, which will cue us to an anomaly occuring."
   ]
  },
  {
   "cell_type": "code",
   "execution_count": 7,
   "metadata": {},
   "outputs": [
    {
     "data": {
      "text/plain": [
       "<All keys matched successfully>"
      ]
     },
     "execution_count": 7,
     "metadata": {},
     "output_type": "execute_result"
    }
   ],
   "source": [
    "# Define auto encoder architecture\n",
    "hidden_layers = (100, 75, 50, 75, 100)\n",
    "input_size = stable_df.shape[1]\n",
    "output_size = input_size\n",
    "\n",
    "# Create and load pre-trained weights into model:\n",
    "model = fc.FCNetwork(input_size, hidden_layers, output_size)\n",
    "model.load_state_dict(torch.load('data/models/ae1.pt', map_location=torch.device('cpu')))"
   ]
  },
  {
   "cell_type": "markdown",
   "metadata": {},
   "source": [
    "### Creating Probability Density Estimate of Network Loss\n",
    "Next, we will create estimate a probability density function of the network loss when applied to stable country input data. This probability density function will be used to choose a loss threshold above which model input is considered anomalous. "
   ]
  },
  {
   "cell_type": "code",
   "execution_count": 8,
   "metadata": {},
   "outputs": [],
   "source": [
    "with torch.no_grad():\n",
    "    x = torch.tensor(stable_df.to_numpy())\n",
    "    x_hat = model(x)\n",
    "    mae = (x - x_hat).abs().mean(dim=1).numpy()"
   ]
  },
  {
   "cell_type": "code",
   "execution_count": 9,
   "metadata": {},
   "outputs": [
    {
     "data": {
      "text/plain": [
       "['data/models/kde.joblib']"
      ]
     },
     "execution_count": 9,
     "metadata": {},
     "output_type": "execute_result"
    }
   ],
   "source": [
    "# Generate Kernel Density Estimate using Silverman heuristics\n",
    "bw = 1.06 * mae.std() * mae.size ** (-1 / 5.)\n",
    "kde = KernelDensity(bandwidth=bw).fit(mae.reshape(-1, 1))\n",
    "joblib.dump(kde, 'data/models/kde.joblib')"
   ]
  },
  {
   "cell_type": "code",
   "execution_count": 10,
   "metadata": {},
   "outputs": [],
   "source": [
    "# Generate evenly spaced samples for plotting density function estimate\n",
    "values = np.arange(0.01, 0.1, .0005).reshape(-1, 1)\n",
    "p = kde.score_samples(values)\n",
    "p = np.exp(p)"
   ]
  },
  {
   "cell_type": "code",
   "execution_count": 11,
   "metadata": {},
   "outputs": [
    {
     "data": {
      "image/png": "[encoded data removed]",
      "text/plain": [
       "<Figure size 720x360 with 1 Axes>"
      ]
     },
     "metadata": {},
     "output_type": "display_data"
    }
   ],
   "source": [
    "# Verify density function estimate\n",
    "sns.lineplot(x=values.squeeze(), y=p.squeeze() *.7e3, color='red')\n",
    "sns.histplot(mae, bins=60)\n",
    "plt.gca().set(title='KDE of Auto Encoder Residuals');"
   ]
  },
  {
   "cell_type": "markdown",
   "metadata": {},
   "source": [
    "Based on the above histogram, it appears as though the auto-encoder loss largely falls below 0.04, so this will be a good threshold for our anomaly detection in the next notebook. "
   ]
  }
 ],
 "metadata": {
  "environment": {
   "name": "pytorch-gpu.1-4.m58",
   "type": "gcloud",
   "uri": "gcr.io/deeplearning-platform-release/pytorch-gpu.1-4:m58"
  },
  "kernelspec": {
   "display_name": "Python [conda env:general-ml] *",
   "language": "python",
   "name": "conda-env-general-ml-py"
  },
  "language_info": {
   "codemirror_mode": {
    "name": "ipython",
    "version": 3
   },
   "file_extension": ".py",
   "mimetype": "text/x-python",
   "name": "python",
   "nbconvert_exporter": "python",
   "pygments_lexer": "ipython3",
   "version": "3.8.5"
  }
 },
 "nbformat": 4,
 "nbformat_minor": 4
}
